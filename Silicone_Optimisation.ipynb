{
 "cells": [
  {
   "cell_type": "code",
   "outputs": [],
   "source": [
    "# Import necessary libraries\n",
    "import numpy as np\n",
    "import sympy as sp\n",
    "import matplotlib.pyplot as plt\n",
    "from matplotlib.patches import Rectangle\n",
    "from scipy.optimize import basinhopping\n",
    "from shapely.geometry import LineString, Point"
   ],
   "metadata": {
    "collapsed": false,
    "ExecuteTime": {
     "end_time": "2024-06-13T08:06:01.322818Z",
     "start_time": "2024-06-13T08:06:01.314772Z"
    }
   },
   "execution_count": 14
  },
  {
   "cell_type": "code",
   "outputs": [],
   "source": [
    "# Defining normalised starting variables, based on a good guess\n",
    "x0 = [0.59, 0.17, 0.05, 0.15]\n",
    "\n",
    "#Defining stepsize\n",
    "stepsize = 0.001 \n",
    "\n",
    "# Defining bounds for optimisation \n",
    "bounds_t = (1e-3, 10e-3) # Bounds for thickness between holes (aangepast 12 naar 10, nog eens runnen) (m)\n",
    "bounds_h = (1e-4, 1e-3) # Bounds for thickness of tension bar. The tension bar is modeled with same depth (= z direction) as metamaterial (m)\n",
    "bounds_R1 = (5e-3, 0.05) # Bounds for small hole (m)\n",
    "bounds_R2 = (5e-3, 0.05) # Bounds of large hole (m)\n",
    "\n",
    "bnds = (bounds_t, bounds_h, bounds_R1, bounds_R2) # Defining a variable for all bounds\n",
    "\n",
    "# Normalising bounds\n",
    "bnds_normalised = ((0, 1),) * 4 # Normalising bounds for faster and better simulation. The order of the individual parameters differ a lot form eachother, normalising will reduce this problem.\n",
    "\n",
    "# Defining  number of iterations and temperature for basinhopping\n",
    "iterations = 100\n",
    "Temp = 100 # Size of the hops between basins"
   ],
   "metadata": {
    "collapsed": false,
    "ExecuteTime": {
     "end_time": "2024-06-13T08:06:01.510258Z",
     "start_time": "2024-06-13T08:06:01.502249Z"
    }
   },
   "execution_count": 15
  },
  {
   "cell_type": "code",
   "outputs": [],
   "source": [
    "# Function to define symbols for dimensions\n",
    "def dimensions_symbols():\n",
    "    a, b, k_t, k_l, th0, l0, theta = sp.symbols('a b K_t K_v theta_0 l_0 theta')\n",
    "    return a, b, k_t, k_l, th0, l0, theta"
   ],
   "metadata": {
    "collapsed": false,
    "ExecuteTime": {
     "end_time": "2024-06-13T08:06:01.541639Z",
     "start_time": "2024-06-13T08:06:01.528126Z"
    }
   },
   "execution_count": 16
  },
  {
   "cell_type": "code",
   "outputs": [],
   "source": [
    "# Function to define equations for dimensions\n",
    "def dimensions_equations(a, b, theta, th0, l0):\n",
    "    NoH = 1.5 # Number of holes in geometry\n",
    "    H = 2 * NoH * (b * sp.sin(theta) + a * sp.cos(theta)) # Height of the geometry (m)\n",
    "    W = 2 * NoH * (a * sp.sin(theta) + b * sp.cos(theta)) # Width of the geometry (m)\n",
    "    uy = -(H - H.subs(theta, th0)) # Displacement in y-direction (m)\n",
    "    l = 2 * b * sp.cos(theta) # Length of tension bar (m)\n",
    "    return H, W, uy, l"
   ],
   "metadata": {
    "collapsed": false,
    "ExecuteTime": {
     "end_time": "2024-06-13T08:06:01.573308Z",
     "start_time": "2024-06-13T08:06:01.554098Z"
    }
   },
   "execution_count": 17
  },
  {
   "cell_type": "code",
   "outputs": [],
   "source": [
    "# Function to define energy equations\n",
    "def energy_equations(k_t, k_l, theta, th0, l0, l, uy):\n",
    "    P_torsion = 0.5 * k_t * (theta - th0) ** 2 # Energy of torsion spring (J)\n",
    "    P_linear = sp.Piecewise((0.5 * k_l * (l - l0) ** 2, l > l0), (0, True)) # Energy of linear spring (J)\n",
    "    P = (12 * P_torsion) + (4 * P_linear) # Total spring energy (J)\n",
    "    \n",
    "    # Derivation from energy to force to stiffness\n",
    "    duy = sp.diff(uy, theta)\n",
    "    dP= sp.diff(P, theta)\n",
    "    F = dP/ duy # Force (N)\n",
    "    dF = sp.diff(F, theta)\n",
    "    K = dF / duy # Stiffness (N/m)\n",
    "    \n",
    "    # Derivative to seperate torsion and lineair energy to force\n",
    "    dP_t = sp.diff(P_torsion, theta)\n",
    "    F_t = dP_t / duy # Force of torsion springs (N)\n",
    "    dP_l = sp.diff(P_linear, theta)\n",
    "    F_l = dP_l / duy # Force of linear springs (N)\n",
    "    return P, F, K, F_l, F_t, P_torsion, P_linear"
   ],
   "metadata": {
    "collapsed": false,
    "ExecuteTime": {
     "end_time": "2024-06-13T08:06:01.589409Z",
     "start_time": "2024-06-13T08:06:01.575505Z"
    }
   },
   "execution_count": 18
  },
  {
   "cell_type": "code",
   "outputs": [],
   "source": [
    "# Function to calculate parameters\n",
    "def calculate_parameters(x):\n",
    "    t = round(bounds_t[0] + x[0] * (bounds_t[1] - bounds_t[0]), 6) # spacing between holes (m)\n",
    "    h = round(bounds_h[0] + x[1] * (bounds_h[1] - bounds_h[0]), 6) # thickness of tension-bar (m)\n",
    "    R1 = round(bounds_R1[0] + x[2] * (bounds_R1[1] - bounds_R1[0]), 6) # radius of small holes (m)\n",
    "    R2 = round(bounds_R2[0] + x[3] * (bounds_R2[1] - bounds_R2[0]), 6) # radius of large holes (m)\n",
    "    E_linear = 0.165e6 # Young's modulus of tension-bars (Pa)\n",
    "    E_torsion = 0.61e6 # Young's modulus of bulk (Pa)\n",
    "\n",
    "    return t, h, R1, R2, E_linear, E_torsion"
   ],
   "metadata": {
    "collapsed": false,
    "ExecuteTime": {
     "end_time": "2024-06-13T08:06:01.604717Z",
     "start_time": "2024-06-13T08:06:01.592778Z"
    }
   },
   "execution_count": 19
  },
  {
   "cell_type": "code",
   "outputs": [],
   "source": [
    "# Function to calculate other derived variables\n",
    "def variable_defining(t, h, R1, R2, E_linear, E_torsion, Depth=5e-2):\n",
    "    a = (2 * (R1 + 0.5 * t) ** 2) ** 0.5 # short side of rectangle in linkage model of geometry \n",
    "    b = (2 * (R2 + 0.5 * t) ** 2) ** 0.5 # long side of rectangle in linkage model of the geometry\n",
    "    k_l = (Depth * h * E_linear) / R2 # stiffness of a linear spring\n",
    "    D = (4 * R1 * R2) / (R1 + R2) # geometrical parameter required for torsional stifness calculation\n",
    "    k_t = 0.093 * E_torsion * Depth * t ** 2 * (2 * (t / D) ** 0.5) # stiffness of a torsion spring\n",
    "    return [a, b, k_t, k_l, t, h, R1, R2, E_linear, E_torsion]"
   ],
   "metadata": {
    "collapsed": false,
    "ExecuteTime": {
     "end_time": "2024-06-13T08:06:01.650739Z",
     "start_time": "2024-06-13T08:06:01.637769Z"
    }
   },
   "execution_count": 20
  },
  {
   "cell_type": "code",
   "outputs": [],
   "source": [
    "# Function to simulate the linkage model of geometry\n",
    "def model(x, stepsize = stepsize):\n",
    "    \n",
    "    # Retrieve functions outputs\n",
    "    a, b, k_t, k_l, th0, l0, theta = dimensions_symbols()\n",
    "    H, W, uy, l = dimensions_equations(a, b, theta, th0, l0)\n",
    "    P, F, K, F_l, F_t, P_torsion, P_linear = energy_equations(k_t, k_l, theta, th0, l0, l, uy)\n",
    "    t, h, R1, R2, E_linear, E_torsion = calculate_parameters(x)\n",
    "    variables = variable_defining(t, h, R1, R2, E_linear, E_torsion)  # \n",
    "    \n",
    "    params = {\n",
    "        a: variables[0],  # m\n",
    "        b: variables[1],  # m\n",
    "        k_t: variables[2],  # Nm/rad\n",
    "        k_l: variables[3],  # N/m\n",
    "        th0: np.pi / 4,  # rad\n",
    "        l0: l.subs({theta: np.pi / 4, b: variables[1], a: variables[0]}) * (4 / 6)  # m\n",
    "    }\n",
    "    \n",
    "    # Converting the SymPy functions into functions that allow for fast numeric evaluation\n",
    "    P_func = sp.lambdify(theta, P.subs(params))\n",
    "    P_t_func = sp.lambdify(theta, P_torsion.subs(params))\n",
    "    P_l_func = sp.lambdify(theta, P_linear.subs(params))\n",
    "    K_func = sp.lambdify(theta, K.subs(params))\n",
    "    F_func = sp.lambdify(theta, F.subs(params))\n",
    "    F_t_func = sp.lambdify(theta, F_t.subs(params))\n",
    "    F_l_func = sp.lambdify(theta, F_l.subs(params))\n",
    "    uy_func = sp.lambdify(theta, uy.subs(params))\n",
    "    l_func = sp.lambdify(theta, l.subs(params))\n",
    "    th_list = np.linspace(np.pi/4, 0, int(1/stepsize)) # array of the steps of the compression angle theta\n",
    "    \n",
    "    # Searching the lowest value of K_func to obtain the inclination point in F_func \n",
    "    for theta_mid in np.arange(stepsize, np.pi/4 - stepsize, stepsize): # begin with first stepsize and end with pi/4 minus stepsize to bypass start and end defects\n",
    "        Kval = K_func(theta_mid)\n",
    "        Kval_next = K_func(theta_mid + stepsize)\n",
    "        Kval_previous = K_func(theta_mid - stepsize)\n",
    "        dKval_next = Kval_next - Kval\n",
    "        dKval_previous = Kval - Kval_previous\n",
    "        if dKval_next >= 0 and dKval_previous <= 0: # if next and previous value are higher give value\n",
    "            break\n",
    "        else: theta_mid = stepsize # gives a high value in costfunction, so effectively acts like a penalty\n",
    "    \n",
    "    return P_func, P_t_func, P_l_func, K_func, F_func,F_l_func, F_t_func, uy_func,l_func, th_list, params, t, h, R1, R2, E_linear, E_torsion, theta_mid"
   ],
   "metadata": {
    "collapsed": false,
    "ExecuteTime": {
     "end_time": "2024-06-13T08:06:01.697910Z",
     "start_time": "2024-06-13T08:06:01.672347Z"
    }
   },
   "execution_count": 21
  },
  {
   "cell_type": "markdown",
   "source": [],
   "metadata": {
    "collapsed": false
   }
  },
  {
   "cell_type": "code",
   "outputs": [],
   "source": [
    "# Force bounds to define the length of the QZS region\n",
    "def F_bounds(theta, x):\n",
    "    P_func, P_t_func, P_l_func, K_func, F_func,F_l_func, F_t_func, uy_func,l_func, th_list, params, t, h, R1, R2, E_linear, E_torsion, theta_mid = model(x)\n",
    "    F_max = F_func(theta) * 1.005 # maximum force bound, 0.5% above the inclination point\n",
    "    F_min = F_func(theta) * 0.995 # minimum force bound, 0.5% below the inclination point\n",
    "    return F_max, F_min "
   ],
   "metadata": {
    "collapsed": false,
    "ExecuteTime": {
     "end_time": "2024-06-13T08:06:01.729526Z",
     "start_time": "2024-06-13T08:06:01.710292Z"
    }
   },
   "execution_count": 22
  },
  {
   "cell_type": "code",
   "outputs": [],
   "source": [
    "# Calculation of the length of the QZS region within the force bounds\n",
    "def length(intersection_coords_max, intersection_coords_min, k_max, k_min):\n",
    "    if not k_max == 1 or not k_min == 1: # penalty if F_func doesn't have one intersection at each force bound \n",
    "        length = 3e-4\n",
    "    else:\n",
    "        length = intersection_coords_max[0][0] - intersection_coords_min[0][0] # length of QZS region with one intersection with each force bound  \n",
    "        if intersection_coords_min[0][0] > intersection_coords_max[0][0]: # penalty if length is negative  \n",
    "            length = 2e-4\n",
    "    return length"
   ],
   "metadata": {
    "collapsed": false,
    "ExecuteTime": {
     "end_time": "2024-06-13T08:06:01.745321Z",
     "start_time": "2024-06-13T08:06:01.735166Z"
    }
   },
   "execution_count": 23
  },
  {
   "cell_type": "code",
   "outputs": [],
   "source": [
    "# Costfunction to be minimized by the optimisation algorithm\n",
    "def costfunction(x):   \n",
    "    # Bounds for normalised parameters in basinhopping algorithm\n",
    "    lower_bounds = [0, 0, 0, 0]\n",
    "    upper_bounds = [1, 1, 1, 1]\n",
    "    if not (np.all(x >= lower_bounds) and np.all(x <= upper_bounds)):\n",
    "        # return infinity when values are out of bounds from the basinhopping algorithm\n",
    "        return 1e10\n",
    "    \n",
    "    # Retrieve model outputs \n",
    "    P_func, P_t_func, P_l_func, K_func, F_func,F_l_func, F_t_func, uy_func,l_func, th_list, params, t, h, R1, R2, E_linear, E_torsion, theta_mid = model(x)\n",
    "    \n",
    "    F_max, F_min = F_bounds(theta_mid, x) # Retrieve F_bounds outputs\n",
    "    bound_max = [F_max] * len(th_list) # making an array of maximum force bound value\n",
    "    bound_min = [F_min] * len(th_list) # making an array of minimum force bound value\n",
    "    \n",
    "    #Making lines from the arrays to obtain intersection points\n",
    "    line_F = LineString(np.column_stack((uy_func(th_list), F_func(th_list))))\n",
    "    line_max = LineString(np.column_stack((uy_func(th_list), bound_max)))\n",
    "    line_min = LineString(np.column_stack((uy_func(th_list), bound_min)))\n",
    "    \n",
    "    intersection_max = line_max.intersection(line_F) # intersection points with maximum force bound and F_func\n",
    "    intersection_min = line_min.intersection(line_F) # intersection points with minimum force bound and F_func\n",
    "    \n",
    "    intersection_coords_max = [(0,0)] # initial intersection point necessary for optimisation\n",
    "    \n",
    "    #Intersection for the maximum force bound and F_func \n",
    "    if intersection_max.is_empty: # there is no intersection with maximum force bound and F_func\n",
    "        k_max = 0\n",
    "    elif isinstance(intersection_max, Point): # there is one intersection with maximum force bound and F_func\n",
    "        k_max = 1\n",
    "        intersection_coords_max = list(intersection_max.coords) # making a list from shapely output\n",
    "    else: # there is more than one intersection with maximum force bound and F_func\n",
    "        k_max = 0\n",
    "    \n",
    "    intersection_coords_min = [(0,0)] # initial intersection point necessary for optimisation\n",
    "    \n",
    "    #Intersection of the minimum force bound and F_func     \n",
    "    if intersection_min.is_empty: # there is no intersection with minimum force bound and F_func\n",
    "        k_min = 0\n",
    "    elif isinstance(intersection_min, Point): # there is one intersection with minimum force bound and F_func\n",
    "        k_min = 1\n",
    "        intersection_coords_min = list(intersection_min.coords) # making a list from shapely output\n",
    "    else: # there is more than one intersection with minimum force bound and F_func\n",
    "        k_min = 0\n",
    "            \n",
    "    penalty = 0 # setting a initial penalty value\n",
    "\n",
    "    # Adding penalties if needed, with different values, so they are traceable\n",
    "    if K_func(th_list)[0] < 0: # If the stiffness starts negative\n",
    "        penalty =+ 4000\n",
    "    elif x[3] < x[2]: # If the small hole is bigger than the large hole\n",
    "        penalty =+ 5000\n",
    "    \n",
    "    # Inverse length of the QZS region in relation to the total compression to be minimized  \n",
    "    L = (uy_func(th_list)[-1] - uy_func(th_list)[0]) / length(intersection_coords_max, intersection_coords_min, k_max, k_min) + penalty\n",
    "    \n",
    "    return L"
   ],
   "metadata": {
    "collapsed": false,
    "ExecuteTime": {
     "end_time": "2024-06-13T08:06:01.807444Z",
     "start_time": "2024-06-13T08:06:01.786990Z"
    }
   },
   "execution_count": 24
  },
  {
   "cell_type": "code",
   "outputs": [
    {
     "name": "stderr",
     "output_type": "stream",
     "text": [
      "C:\\Users\\tkrom\\anaconda3\\lib\\site-packages\\scipy\\optimize\\_hessian_update_strategy.py:182: UserWarning: delta_grad == 0.0. Check if the approximated function is linear. If the function is linear better results can be obtained by defining the Hessian as zero instead of using quasi-Newton approximations.\n",
      "  warn('delta_grad == 0.0. Check if the approximated '\n"
     ]
    }
   ],
   "source": [
    "# Minimizing costfunction output with Scipy basinhopping algorithm for global minimum and trust-contraint algorithm for the local minima\n",
    "results = basinhopping(costfunction, x0, niter=iterations, T=Temp, minimizer_kwargs={'method': 'trust-constr', 'bounds': bnds_normalised})\n",
    "print(results)"
   ],
   "metadata": {
    "collapsed": false,
    "is_executing": true,
    "ExecuteTime": {
     "start_time": "2024-06-13T08:06:01.809752Z"
    }
   },
   "execution_count": null
  },
  {
   "cell_type": "markdown",
   "source": [],
   "metadata": {
    "collapsed": false
   }
  },
  {
   "cell_type": "code",
   "outputs": [],
   "source": [
    "#Plotting the output of the optimisation\n",
    "\n",
    "# Filling in the optimisation output into the relevant functions\n",
    "P_func, P_t_func, P_l_func, K_func, F_func,F_l_func, F_t_func, uy_func, l_func, th_list, params, t, h, R1, R2, E_linear, E_torsion, theta_mid = model(results.x)\n",
    "F_max, F_min = F_bounds(theta_mid, results.x)\n",
    "\n",
    "variables = variable_defining(t, h, R1, R2, E_linear, E_torsion)\n",
    "\n",
    "#plot of potential energy\n",
    "fig, ax = plt.subplots(1, 1)\n",
    "ax.plot(uy_func(th_list), P_func(th_list), label='$E_{total}$', lw=5)\n",
    "ax.plot(uy_func(th_list), 12 * P_t_func(th_list), label='$E_{torsional}$', lw=5)\n",
    "ax.plot(uy_func(th_list), 4 * P_l_func(th_list), label='$E_{linear}$', ls=':', lw=5)\n",
    "ax.set_xlabel('Compression (m)')\n",
    "ax.set_ylabel('Energy (J)')\n",
    "ax.legend()\n",
    "plt.show()\n",
    "\n",
    "#plot of total force\n",
    "fig, ax = plt.subplots(1, 1)\n",
    "ax.plot(l_func(th_list), F_func(th_list), label='$F_{total}$', lw=5)\n",
    "ax.plot(l_func(th_list), 12 * F_t_func(th_list), label='$F_{torsional}$', lw=5)\n",
    "ax.plot(l_func(th_list), 4 * F_l_func(th_list), label='$F_{linear}$', ls=':', lw=5)\n",
    "ax.set_xlabel('Compression (m)')\n",
    "ax.set_ylabel('Force (N)')\n",
    "ax.legend()\n",
    "plt.show()\n",
    "\n",
    "#redifining the intersections, lines of the bounds\n",
    "bound_max = [F_max] * len(th_list) \n",
    "bound_min = [F_min] * len(th_list)\n",
    "line_F = LineString(np.column_stack((uy_func(th_list), F_func(th_list))))\n",
    "line_max = LineString(np.column_stack((uy_func(th_list), bound_max)))\n",
    "line_min = LineString(np.column_stack((uy_func(th_list), bound_min)))\n",
    "intersection_max = line_max.intersection(line_F)\n",
    "intersection_min = line_min.intersection(line_F)\n",
    "\n",
    "#plot E-, F- & K-function\n",
    "fig, ax = plt.subplots(2, 1, figsize=(20, 16))\n",
    "ax[0].plot(uy_func(th_list), F_func(th_list))\n",
    "ax[1].plot(uy_func(th_list), K_func(th_list))\n",
    "ax[0].plot(uy_func(th_list), bound_max)\n",
    "ax[0].plot(uy_func(th_list), bound_min)\n",
    "ax[0].axhline(0, color='k', ls='--')\n",
    "ax[1].axhline(0, color='k', ls='--')\n",
    "ax[1].plot(uy_func(theta_mid), K_func(theta_mid), 'ro')\n",
    "ax[0].set_ylabel('Force (N)')\n",
    "ax[1].set_ylabel('Stiffness (N/m)')\n",
    "ax[1].set_xlabel('Compression (m)')\n",
    "\n",
    "# Plotting the intersection points\n",
    "if intersection_max.is_empty: # There is no intersection\n",
    "    k_max = 0\n",
    "elif isinstance(intersection_max, Point): # The intersection is a single point\n",
    "    k_max = 1\n",
    "    intersection_coords_max = list(intersection_max.coords)\n",
    "    ax[0].plot(*intersection_max.xy, 'ro')\n",
    "else: # There are multiple intersections\n",
    "    k_max = 0\n",
    "    for geom in intersection_max.geoms:\n",
    "        intersection_coords_max = list(geom.coords)\n",
    "        for n in range(len(intersection_max.geoms)):\n",
    "            ax[0].plot(*intersection_max.geoms[n].xy, 'ro')\n",
    "      \n",
    "if intersection_min.is_empty: # There is no intersection\n",
    "    k_min = 0\n",
    "elif isinstance(intersection_min, Point): # The intersection is a single point\n",
    "    k_min = 1\n",
    "    intersection_coords_min = list(intersection_min.coords)\n",
    "    ax[0].plot(*intersection_min.xy, 'ro')\n",
    "else: # There are multiple intersections\n",
    "    k_min = 0\n",
    "    for geom in intersection_min.geoms:\n",
    "        intersection_coords_min = list(geom.coords)\n",
    "        for n in range(len(intersection_min.geoms)):\n",
    "            ax[0].plot(*intersection_min.geoms[n].xy, 'ro')\n",
    "\n",
    "#print outputspecs\n",
    "print('Normalised parameters', f\"t: {results.x[0]}, h: {results.x[1]}, R1: {results.x[2]}, R2:{results.x[3]}\")\n",
    "print('Parameters', f\"t: {round(variables[4], 5)*1e3}, h: {round(variables[5], 5)*1e3}, R1: {round(variables[6], 5)*1e3}, R2:{round(variables[7], 5)*1e3}\")\n",
    "print('Size of metamaterial =', round(5 * (variables[4] + variables[6] + variables[7]), 4)*100, 'cm')\n",
    "print('QZS region absolute =', round(length(intersection_coords_max, intersection_coords_min, k_max, k_min) * 1000, 2), 'mm')\n",
    "print('QZS region relative =', round(length(intersection_coords_max, intersection_coords_min, k_max, k_min) / (uy_func(th_list)[-1] - uy_func(th_list)[0]), 2)*100, '%')\n",
    "\n",
    "plt.show()\n"
   ],
   "metadata": {
    "collapsed": false,
    "is_executing": true
   },
   "execution_count": null
  },
  {
   "cell_type": "code",
   "outputs": [],
   "source": [
    "# Visualisation of the linkage model\n",
    "def make_rectangle(xy, a, b, angle):\n",
    "    r = Rectangle(xy=xy,\n",
    "                  width=b, height=a,\n",
    "                  angle=180 * angle / np.pi,\n",
    "                  fc='whitesmoke', ec='k')\n",
    "    return r\n",
    "\n",
    "\n",
    "def make_line(xy, a, b, angle):\n",
    "    l = Rectangle(xy=xy,\n",
    "                  width=b, height=a,\n",
    "                  angle=180 * angle / np.pi,\n",
    "                  fc='tab:orange', ec='tab:orange')  #tab:orange \n",
    "    return l\n",
    "\n",
    "\n",
    "def draw_mechanism(params, theta):\n",
    "    fig, ax = plt.subplots(1, 1, figsize=(10, 10))\n",
    "    rectangles = []\n",
    "    w = params[a] * np.sin(theta) + params[b] * np.cos(theta)\n",
    "    h = params[a] * np.cos(theta) + params[b] * np.sin(theta)\n",
    "    rectangles.append(make_rectangle(xy=(0, params[b] * np.sin(theta)),\n",
    "                                     a=params[a], b=params[b], angle=-theta))\n",
    "    rectangles.append(make_rectangle(xy=(params[a] * np.sin(theta) + w, 0),\n",
    "                                     a=params[a], b=params[b], angle=theta))\n",
    "    rectangles.append(make_rectangle(xy=(2 * w, params[b] * np.sin(theta)),\n",
    "                                     a=params[a], b=params[b], angle=-theta))\n",
    "    rectangles.append(make_rectangle(xy=(params[a] * np.sin(theta), h),\n",
    "                                     a=params[a], b=params[b], angle=theta))\n",
    "    rectangles.append(make_rectangle(xy=(w, h + params[b] * np.sin(theta)),\n",
    "                                     a=params[a], b=params[b], angle=-theta))\n",
    "    rectangles.append(make_rectangle(xy=(params[a] * np.sin(theta) + 2 * w, h),\n",
    "                                     a=params[a], b=params[b], angle=theta))\n",
    "    rectangles.append(make_rectangle(xy=(0, params[b] * np.sin(theta) + 2 * h),\n",
    "                                     a=params[a], b=params[b], angle=-theta))\n",
    "    rectangles.append(make_rectangle(xy=(params[a] * np.sin(theta) + w, 2 * h),\n",
    "                                     a=params[a], b=params[b], angle=theta))\n",
    "    rectangles.append(make_rectangle(xy=(2 * w, params[b] * np.sin(theta) + 2 * h),\n",
    "                                     a=params[a], b=params[b], angle=-theta))\n",
    "    rectangles.append(make_line(xy=(params[a] * np.sin(theta), h - 0.0001),\n",
    "                                a=0.6e-3, b=2 * params[b] * np.sin(theta), angle=0))\n",
    "    rectangles.append(make_line(xy=(params[a] * np.sin(theta) + w, 2 * h - 0.0001),\n",
    "                                a=0.6e-3, b=2 * params[b] * np.sin(theta), angle=0))\n",
    "    rectangles.append(make_line(xy=(params[a] * np.sin(theta) + w, 0),\n",
    "                                a=0.3e-3, b=2 * params[b] * np.sin(theta), angle=0))\n",
    "    rectangles.append(make_line(xy=(params[a] * np.sin(theta), 3 * h),\n",
    "                                a=0.3e-3, b=2 * params[b] * np.sin(theta), angle=0))\n",
    "    for r in rectangles:\n",
    "        ax.add_patch(r)\n",
    "    for l in rectangles:\n",
    "        ax.add_patch(l)\n",
    "    ax.set_aspect(1)\n",
    "    ax.set_xlim(0, 3 * h)\n",
    "    ax.set_ylim(0, 3 * h + 0.0003)\n",
    "    ax.set_xlabel('x (m)', fontsize=20)\n",
    "    ax.set_ylabel('y (m)', fontsize=20)\n",
    "    ax.tick_params(axis='both', labelsize=14)\n",
    "    plt.show()\n",
    "    print(3 * h)\n",
    "    print(3 * w)\n",
    "\n",
    "\n",
    "draw_mechanism(params, np.pi / 4)"
   ],
   "metadata": {
    "collapsed": false,
    "is_executing": true
   },
   "execution_count": null
  }
 ],
 "metadata": {
  "kernelspec": {
   "display_name": ".venv",
   "language": "python",
   "name": "python3"
  },
  "language_info": {
   "codemirror_mode": {
    "name": "ipython",
    "version": 3
   },
   "file_extension": ".py",
   "mimetype": "text/x-python",
   "name": "python",
   "nbconvert_exporter": "python",
   "pygments_lexer": "ipython3",
   "version": "3.11.4"
  }
 },
 "nbformat": 4,
 "nbformat_minor": 2
}
